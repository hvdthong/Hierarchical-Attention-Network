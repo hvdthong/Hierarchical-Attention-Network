{
 "cells": [
  {
   "cell_type": "code",
   "execution_count": 1,
   "metadata": {},
   "outputs": [],
   "source": [
    "from __future__ import unicode_literals, print_function, division\n",
    "from io import open\n",
    "import unicodedata\n",
    "import string\n",
    "import re\n",
    "import random\n",
    "\n",
    "import torch\n",
    "import torch.nn as nn\n",
    "from torch import optim\n",
    "import torch.nn.functional as F\n",
    "from torch.autograd import Variable\n",
    "device = torch.device(\"cuda\" if torch.cuda.is_available() else \"cpu\")\n",
    "# torch.set_default_tensor_type('torch.cuda.FloatTensor')\n",
    "import pandas as pd\n",
    "from bs4 import BeautifulSoup\n",
    "import itertools\n",
    "import more_itertools\n",
    "import numpy as np\n",
    "import pickle\n"
   ]
  },
  {
   "cell_type": "code",
   "execution_count": 2,
   "metadata": {},
   "outputs": [
    {
     "data": {
      "text/plain": [
       "device(type='cuda')"
      ]
     },
     "execution_count": 2,
     "metadata": {},
     "output_type": "execute_result"
    }
   ],
   "source": [
    "device"
   ]
  },
  {
   "cell_type": "code",
   "execution_count": 3,
   "metadata": {},
   "outputs": [],
   "source": [
    "## The dataset is taken from https://github.com/justmarkham/DAT7/blob/master/data/yelp.csv \n",
    "df=pd.read_csv('yelp.csv')"
   ]
  },
  {
   "cell_type": "code",
   "execution_count": 4,
   "metadata": {},
   "outputs": [
    {
     "data": {
      "text/html": [
       "<div>\n",
       "<style scoped>\n",
       "    .dataframe tbody tr th:only-of-type {\n",
       "        vertical-align: middle;\n",
       "    }\n",
       "\n",
       "    .dataframe tbody tr th {\n",
       "        vertical-align: top;\n",
       "    }\n",
       "\n",
       "    .dataframe thead th {\n",
       "        text-align: right;\n",
       "    }\n",
       "</style>\n",
       "<table border=\"1\" class=\"dataframe\">\n",
       "  <thead>\n",
       "    <tr style=\"text-align: right;\">\n",
       "      <th></th>\n",
       "      <th>business_id</th>\n",
       "      <th>date</th>\n",
       "      <th>review_id</th>\n",
       "      <th>stars</th>\n",
       "      <th>text</th>\n",
       "      <th>type</th>\n",
       "      <th>user_id</th>\n",
       "      <th>cool</th>\n",
       "      <th>useful</th>\n",
       "      <th>funny</th>\n",
       "    </tr>\n",
       "  </thead>\n",
       "  <tbody>\n",
       "    <tr>\n",
       "      <th>0</th>\n",
       "      <td>9yKzy9PApeiPPOUJEtnvkg</td>\n",
       "      <td>2011-01-26</td>\n",
       "      <td>fWKvX83p0-ka4JS3dc6E5A</td>\n",
       "      <td>5</td>\n",
       "      <td>My wife took me here on my birthday for breakf...</td>\n",
       "      <td>review</td>\n",
       "      <td>rLtl8ZkDX5vH5nAx9C3q5Q</td>\n",
       "      <td>2</td>\n",
       "      <td>5</td>\n",
       "      <td>0</td>\n",
       "    </tr>\n",
       "    <tr>\n",
       "      <th>1</th>\n",
       "      <td>ZRJwVLyzEJq1VAihDhYiow</td>\n",
       "      <td>2011-07-27</td>\n",
       "      <td>IjZ33sJrzXqU-0X6U8NwyA</td>\n",
       "      <td>5</td>\n",
       "      <td>I have no idea why some people give bad review...</td>\n",
       "      <td>review</td>\n",
       "      <td>0a2KyEL0d3Yb1V6aivbIuQ</td>\n",
       "      <td>0</td>\n",
       "      <td>0</td>\n",
       "      <td>0</td>\n",
       "    </tr>\n",
       "    <tr>\n",
       "      <th>2</th>\n",
       "      <td>6oRAC4uyJCsJl1X0WZpVSA</td>\n",
       "      <td>2012-06-14</td>\n",
       "      <td>IESLBzqUCLdSzSqm0eCSxQ</td>\n",
       "      <td>4</td>\n",
       "      <td>love the gyro plate. Rice is so good and I als...</td>\n",
       "      <td>review</td>\n",
       "      <td>0hT2KtfLiobPvh6cDC8JQg</td>\n",
       "      <td>0</td>\n",
       "      <td>1</td>\n",
       "      <td>0</td>\n",
       "    </tr>\n",
       "    <tr>\n",
       "      <th>3</th>\n",
       "      <td>_1QQZuf4zZOyFCvXc0o6Vg</td>\n",
       "      <td>2010-05-27</td>\n",
       "      <td>G-WvGaISbqqaMHlNnByodA</td>\n",
       "      <td>5</td>\n",
       "      <td>Rosie, Dakota, and I LOVE Chaparral Dog Park!!...</td>\n",
       "      <td>review</td>\n",
       "      <td>uZetl9T0NcROGOyFfughhg</td>\n",
       "      <td>1</td>\n",
       "      <td>2</td>\n",
       "      <td>0</td>\n",
       "    </tr>\n",
       "    <tr>\n",
       "      <th>4</th>\n",
       "      <td>6ozycU1RpktNG2-1BroVtw</td>\n",
       "      <td>2012-01-05</td>\n",
       "      <td>1uJFq2r5QfJG_6ExMRCaGw</td>\n",
       "      <td>5</td>\n",
       "      <td>General Manager Scott Petello is a good egg!!!...</td>\n",
       "      <td>review</td>\n",
       "      <td>vYmM4KTsC8ZfQBg-j5MWkw</td>\n",
       "      <td>0</td>\n",
       "      <td>0</td>\n",
       "      <td>0</td>\n",
       "    </tr>\n",
       "  </tbody>\n",
       "</table>\n",
       "</div>"
      ],
      "text/plain": [
       "              business_id        date               review_id  stars  \\\n",
       "0  9yKzy9PApeiPPOUJEtnvkg  2011-01-26  fWKvX83p0-ka4JS3dc6E5A      5   \n",
       "1  ZRJwVLyzEJq1VAihDhYiow  2011-07-27  IjZ33sJrzXqU-0X6U8NwyA      5   \n",
       "2  6oRAC4uyJCsJl1X0WZpVSA  2012-06-14  IESLBzqUCLdSzSqm0eCSxQ      4   \n",
       "3  _1QQZuf4zZOyFCvXc0o6Vg  2010-05-27  G-WvGaISbqqaMHlNnByodA      5   \n",
       "4  6ozycU1RpktNG2-1BroVtw  2012-01-05  1uJFq2r5QfJG_6ExMRCaGw      5   \n",
       "\n",
       "                                                text    type  \\\n",
       "0  My wife took me here on my birthday for breakf...  review   \n",
       "1  I have no idea why some people give bad review...  review   \n",
       "2  love the gyro plate. Rice is so good and I als...  review   \n",
       "3  Rosie, Dakota, and I LOVE Chaparral Dog Park!!...  review   \n",
       "4  General Manager Scott Petello is a good egg!!!...  review   \n",
       "\n",
       "                  user_id  cool  useful  funny  \n",
       "0  rLtl8ZkDX5vH5nAx9C3q5Q     2       5      0  \n",
       "1  0a2KyEL0d3Yb1V6aivbIuQ     0       0      0  \n",
       "2  0hT2KtfLiobPvh6cDC8JQg     0       1      0  \n",
       "3  uZetl9T0NcROGOyFfughhg     1       2      0  \n",
       "4  vYmM4KTsC8ZfQBg-j5MWkw     0       0      0  "
      ]
     },
     "execution_count": 4,
     "metadata": {},
     "output_type": "execute_result"
    }
   ],
   "source": [
    "df.head()"
   ]
  },
  {
   "cell_type": "code",
   "execution_count": 5,
   "metadata": {},
   "outputs": [],
   "source": [
    "## mark the columns which contains text for classification and target class\n",
    "col_text = 'text'\n",
    "col_target = 'cool'"
   ]
  },
  {
   "cell_type": "code",
   "execution_count": 6,
   "metadata": {},
   "outputs": [],
   "source": [
    "cls_arr = np.sort(df[col_target].unique()).tolist()\n",
    "classes = len(cls_arr)"
   ]
  },
  {
   "cell_type": "code",
   "execution_count": 8,
   "metadata": {},
   "outputs": [
    {
     "name": "stdout",
     "output_type": "stream",
     "text": [
      "29 [0, 1, 2, 3, 4, 5, 6, 7, 8, 9, 10, 11, 12, 13, 14, 15, 16, 17, 18, 19, 20, 21, 22, 23, 27, 28, 32, 38, 77]\n"
     ]
    }
   ],
   "source": [
    "print(classes, cls_arr)"
   ]
  },
  {
   "cell_type": "code",
   "execution_count": 9,
   "metadata": {},
   "outputs": [
    {
     "name": "stdout",
     "output_type": "stream",
     "text": [
      "10000 8000 1000\n"
     ]
    }
   ],
   "source": [
    "## divide dataset in 80% train 10% validation 10% test as done in the paper\n",
    "length = df.shape[0]\n",
    "train_len = int(0.8*length)\n",
    "val_len = int(0.1*length)\n",
    "print(length, train_len, val_len)"
   ]
  },
  {
   "cell_type": "code",
   "execution_count": 10,
   "metadata": {},
   "outputs": [],
   "source": [
    "train = df[:train_len]  # train data\n",
    "val = df[train_len:train_len+val_len]  # validation data\n",
    "test = df[train_len+val_len:]  # test data"
   ]
  },
  {
   "cell_type": "code",
   "execution_count": 11,
   "metadata": {},
   "outputs": [],
   "source": [
    "def clean_str(string, max_seq_len):\n",
    "    \"\"\"\n",
    "    adapted from https://github.com/yoonkim/CNN_sentence/blob/master/process_data.py\n",
    "    \"\"\"\n",
    "    string = BeautifulSoup(string, \"lxml\").text\n",
    "    string = re.sub(r\"[^A-Za-z0-9(),!?\\\"\\`]\", \" \", string)\n",
    "    string = re.sub(r\"\\\"s\", \" \\\"s\", string)\n",
    "    string = re.sub(r\"\\\"ve\", \" \\\"ve\", string)\n",
    "    string = re.sub(r\"n\\\"t\", \" n\\\"t\", string)\n",
    "    string = re.sub(r\"\\\"re\", \" \\\"re\", string)\n",
    "    string = re.sub(r\"\\\"d\", \" \\\"d\", string)\n",
    "    string = re.sub(r\"\\\"ll\", \" \\\"ll\", string)\n",
    "    string = re.sub(r\",\", \" , \", string)\n",
    "    string = re.sub(r\"!\", \" ! \", string)\n",
    "    string = re.sub(r\"\\(\", \" \\( \", string)\n",
    "    string = re.sub(r\"\\)\", \" \\) \", string)\n",
    "    string = re.sub(r\"\\?\", \" \\? \", string)\n",
    "    string = re.sub(r\"\\s{2,}\", \" \", string)\n",
    "    s =string.strip().lower().split(\" \")\n",
    "    if len(s) > max_seq_len:\n",
    "        return s[0:max_seq_len] \n",
    "    return s"
   ]
  },
  {
   "cell_type": "code",
   "execution_count": 12,
   "metadata": {},
   "outputs": [],
   "source": [
    "## creates a 3D list of format paragraph[sentence[word]]\n",
    "def create3DList(df,col, max_sent_len,max_seq_len):\n",
    "    x=[]\n",
    "    for docs in df[col].as_matrix():\n",
    "        x1=[]\n",
    "        idx = 0\n",
    "        for seq in \"|||\".join(re.split(\"[.?!]\", docs)).split(\"|||\"):\n",
    "            x1.append(clean_str(seq,max_sent_len))\n",
    "            if(idx>=max_seq_len-1):\n",
    "                break\n",
    "            idx= idx+1\n",
    "        x.append(x1)\n",
    "    return x"
   ]
  },
  {
   "cell_type": "code",
   "execution_count": 18,
   "metadata": {},
   "outputs": [],
   "source": [
    "## Fix the maximum length of sentences in a paragraph and words in a sentence\n",
    "max_sent_len = 5  # words in a sentence\n",
    "max_seq_len = 10 # maximum length of sentences"
   ]
  },
  {
   "cell_type": "code",
   "execution_count": 21,
   "metadata": {
    "scrolled": true
   },
   "outputs": [
    {
     "name": "stderr",
     "output_type": "stream",
     "text": [
      "/home/hvdthong/anaconda3/lib/python3.7/site-packages/ipykernel_launcher.py:4: FutureWarning: Method .as_matrix will be removed in a future version. Use .values instead.\n",
      "  after removing the cwd from sys.path.\n"
     ]
    },
    {
     "name": "stdout",
     "output_type": "stream",
     "text": [
      "x_train: 8000\n",
      "x_val: 1000\n",
      "x_test: 1000\n"
     ]
    }
   ],
   "source": [
    "## divides review in sentences and sentences into word creating a 3DList\n",
    "x_train = create3DList(train,col_text, max_sent_len,max_seq_len)\n",
    "x_val = create3DList(val, col_text, max_sent_len,max_seq_len)\n",
    "x_test = create3DList(test, col_text, max_sent_len,max_seq_len)\n",
    "print(\"x_train: {}\".format(len(x_train)))\n",
    "print(\"x_val: {}\".format(len(x_val)))\n",
    "print(\"x_test: {}\".format(len(x_test)))"
   ]
  },
  {
   "cell_type": "code",
   "execution_count": 22,
   "metadata": {},
   "outputs": [
    {
     "name": "stdout",
     "output_type": "stream",
     "text": [
      "<class 'list'> [['my', 'wife', 'took', 'me', 'here'], ['the', 'weather', 'was', 'perfect', 'which'], ['our', 'waitress', 'was', 'excellent', 'and'], ['it', 'looked', 'like', 'the', 'place'], ['do', 'yourself', 'a', 'favor', 'and'], ['it', 'was', 'phenomenal', 'and', 'simply'], ['i', 'm', 'pretty', 'sure', 'they'], ['it', 'was', 'amazing'], ['while', 'everything', 'on', 'the', 'menu'], ['it', 'came', 'with', '2', 'pieces']]\n"
     ]
    }
   ],
   "source": [
    "print(type(x_train), x_train[0])"
   ]
  },
  {
   "cell_type": "code",
   "execution_count": 23,
   "metadata": {},
   "outputs": [],
   "source": [
    "from gensim.models import Word2Vec\n",
    "from nltk import word_tokenize\n",
    "from nltk.corpus import stopwords\n",
    "from nltk.stem.snowball import SnowballStemmer\n",
    "import string"
   ]
  },
  {
   "cell_type": "code",
   "execution_count": 24,
   "metadata": {},
   "outputs": [],
   "source": [
    "stoplist = stopwords.words('english') + list(string.punctuation)\n",
    "stemmer = SnowballStemmer('english')\n",
    "x_train_texts = [[[stemmer.stem(word.lower()) for word in sent  if word not in stoplist] for sent in para]\n",
    "         for para in x_train]\n",
    "x_test_texts = [[[stemmer.stem(word.lower()) for word in sent  if word not in stoplist] for sent in para]\n",
    "         for para in x_test]\n",
    "x_val_texts = [[[stemmer.stem(word.lower()) for word in sent  if word not in stoplist] for sent in para]\n",
    "         for para in x_val]\n",
    "\n",
    "## calculate frequency of words\n",
    "from collections import defaultdict\n",
    "frequency1 = defaultdict(int)\n",
    "for texts in x_train_texts:     \n",
    "    for text in texts:\n",
    "        for token in text:\n",
    "            frequency1[token] += 1\n",
    "for texts in x_test_texts:     \n",
    "    for text in texts:\n",
    "        for token in text:\n",
    "            frequency1[token] += 1\n",
    "for texts in x_val_texts:     \n",
    "    for text in texts:\n",
    "        for token in text:\n",
    "            frequency1[token] += 1\n",
    "            \n",
    "## remove  words with frequency less than 5.\n",
    "x_train_texts = [[[token for token in text if frequency1[token] > 5]\n",
    "         for text in texts] for texts in x_train_texts]\n",
    "\n",
    "x_test_texts = [[[token for token in text if frequency1[token] > 5]\n",
    "         for text in texts] for texts in x_test_texts]\n",
    "x_val_texts = [[[token for token in text if frequency1[token] > 5]\n",
    "         for text in texts] for texts in x_val_texts]"
   ]
  },
  {
   "cell_type": "code",
   "execution_count": 25,
   "metadata": {},
   "outputs": [],
   "source": [
    "texts = list(more_itertools.collapse(x_train_texts[:] + x_test_texts[:] + x_val_texts[:],levels=1))"
   ]
  },
  {
   "cell_type": "code",
   "execution_count": 26,
   "metadata": {},
   "outputs": [],
   "source": [
    "## train word2vec model on all the words\n",
    "word2vec = Word2Vec(texts,size=200, min_count=5)"
   ]
  },
  {
   "cell_type": "code",
   "execution_count": 27,
   "metadata": {},
   "outputs": [
    {
     "name": "stderr",
     "output_type": "stream",
     "text": [
      "/home/hvdthong/anaconda3/lib/python3.7/site-packages/smart_open/smart_open_lib.py:398: UserWarning: This function is deprecated, use smart_open.open instead. See the migration notes for details: https://github.com/RaRe-Technologies/smart_open/blob/master/README.rst#migrating-to-the-new-open-function\n",
      "  'See the migration notes for details: %s' % _MIGRATION_NOTES_URL\n"
     ]
    }
   ],
   "source": [
    "word2vec.save(\"dictonary_yelp\")"
   ]
  },
  {
   "cell_type": "code",
   "execution_count": 28,
   "metadata": {},
   "outputs": [],
   "source": [
    "## convert 3D text list to 3D list of index \n",
    "x_train_vec = [[[word2vec.wv.vocab[token].index for token in text]\n",
    "         for text in texts] for texts in x_train_texts]"
   ]
  },
  {
   "cell_type": "code",
   "execution_count": 29,
   "metadata": {},
   "outputs": [],
   "source": [
    "x_test_vec = [[[word2vec.wv.vocab[token].index for token in text]\n",
    "         for text in texts] for texts in x_test_texts]"
   ]
  },
  {
   "cell_type": "code",
   "execution_count": 30,
   "metadata": {},
   "outputs": [],
   "source": [
    "x_val_vec = [[[word2vec.wv.vocab[token].index for token in text]\n",
    "         for text in texts] for texts in x_val_texts]"
   ]
  },
  {
   "cell_type": "code",
   "execution_count": 32,
   "metadata": {},
   "outputs": [],
   "source": [
    "weights = torch.FloatTensor(word2vec.wv.vectors).cuda()"
   ]
  },
  {
   "cell_type": "code",
   "execution_count": 33,
   "metadata": {},
   "outputs": [],
   "source": [
    "vocab_size = len(word2vec.wv.vocab)"
   ]
  },
  {
   "cell_type": "code",
   "execution_count": 34,
   "metadata": {},
   "outputs": [],
   "source": [
    "y_train = train[col_target].tolist()\n",
    "y_test = test[col_target].tolist()\n",
    "y_val = val[col_target].tolist()"
   ]
  },
  {
   "cell_type": "code",
   "execution_count": 35,
   "metadata": {},
   "outputs": [],
   "source": [
    "## Make the the multiple attention with word vectors.\n",
    "def attention_mul(rnn_outputs, att_weights):\n",
    "    attn_vectors = None\n",
    "    for i in range(rnn_outputs.size(0)):\n",
    "        h_i = rnn_outputs[i]\n",
    "        a_i = att_weights[i]\n",
    "        h_i = a_i * h_i\n",
    "        h_i = h_i.unsqueeze(0)\n",
    "        if(attn_vectors is None):\n",
    "            attn_vectors = h_i\n",
    "        else:\n",
    "            attn_vectors = torch.cat((attn_vectors,h_i),0)\n",
    "    return torch.sum(attn_vectors, 0).unsqueeze(0)"
   ]
  },
  {
   "cell_type": "code",
   "execution_count": 36,
   "metadata": {},
   "outputs": [],
   "source": [
    "## The word RNN model for generating a sentence vector\n",
    "class WordRNN(nn.Module):\n",
    "    def __init__(self, vocab_size,embedsize, batch_size, hid_size):\n",
    "        super(WordRNN, self).__init__()\n",
    "        self.batch_size = batch_size\n",
    "        self.embedsize = embedsize\n",
    "        self.hid_size = hid_size\n",
    "        ## Word Encoder\n",
    "        self.embed = nn.Embedding(vocab_size, embedsize)\n",
    "        self.wordRNN = nn.GRU(embedsize, hid_size, bidirectional=True)\n",
    "        ## Word Attention\n",
    "        self.wordattn = nn.Linear(2*hid_size, 2*hid_size)\n",
    "        self.attn_combine = nn.Linear(2*hid_size, 2*hid_size,bias=False)\n",
    "    def forward(self,inp, hid_state):\n",
    "        emb_out  = self.embed(inp)\n",
    "\n",
    "        out_state, hid_state = self.wordRNN(emb_out, hid_state)\n",
    "\n",
    "        word_annotation = self.wordattn(out_state)\n",
    "        attn = F.softmax(self.attn_combine(word_annotation),dim=1)\n",
    "\n",
    "        sent = attention_mul(out_state,attn)\n",
    "        return sent, hid_state\n"
   ]
  },
  {
   "cell_type": "code",
   "execution_count": 37,
   "metadata": {},
   "outputs": [],
   "source": [
    "## The HAN model\n",
    "class SentenceRNN(nn.Module):\n",
    "    def __init__(self,vocab_size,embedsize, batch_size, hid_size,c):\n",
    "        super(SentenceRNN, self).__init__()\n",
    "        self.batch_size = batch_size\n",
    "        self.embedsize = embedsize\n",
    "        self.hid_size = hid_size\n",
    "        self.cls = c\n",
    "        self.wordRNN = WordRNN(vocab_size,embedsize, batch_size, hid_size)\n",
    "        ## Sentence Encoder\n",
    "        self.sentRNN = nn.GRU(embedsize, hid_size, bidirectional=True)\n",
    "        ## Sentence Attention\n",
    "        self.sentattn = nn.Linear(2*hid_size, 2*hid_size)\n",
    "        self.attn_combine = nn.Linear(2*hid_size, 2*hid_size,bias=False)\n",
    "        self.doc_linear = nn.Linear(2*hid_size, c)\n",
    "    \n",
    "    def forward(self,inp, hid_state_sent, hid_state_word):\n",
    "        s = None\n",
    "        ## Generating sentence vector through WordRNN\n",
    "        for i in range(len(inp[0])):\n",
    "            r = None\n",
    "            for j in range(len(inp)):\n",
    "                if(r is None):\n",
    "                    r = [inp[j][i]]\n",
    "                else:\n",
    "                    r.append(inp[j][i])\n",
    "            r1 = np.asarray([sub_list + [0] * (max_seq_len - len(sub_list)) for sub_list in r])\n",
    "            _s, state_word = self.wordRNN(torch.cuda.LongTensor(r1).view(-1,batch_size), hid_state_word)\n",
    "            if(s is None):\n",
    "                s = _s\n",
    "            else:\n",
    "                s = torch.cat((s,_s),0)\n",
    "\n",
    "                out_state, hid_state = self.sentRNN(s, hid_state_sent)\n",
    "        sent_annotation = self.sentattn(out_state)\n",
    "        attn = F.softmax(self.attn_combine(sent_annotation),dim=1)\n",
    "\n",
    "        doc = attention_mul(out_state,attn)\n",
    "        d = self.doc_linear(doc)\n",
    "        cls = F.log_softmax(d.view(-1,self.cls),dim=1)\n",
    "        return cls, hid_state\n",
    "    \n",
    "    def init_hidden_sent(self):\n",
    "            return Variable(torch.zeros(2, self.batch_size, self.hid_size)).cuda()\n",
    "    \n",
    "    def init_hidden_word(self):\n",
    "            return Variable(torch.zeros(2, self.batch_size, self.hid_size)).cuda()\n"
   ]
  },
  {
   "cell_type": "code",
   "execution_count": 38,
   "metadata": {},
   "outputs": [],
   "source": [
    "## converting list to tensor\n",
    "y_train_tensor =  [torch.cuda.FloatTensor([cls_arr.index(label)]) for label in y_train]\n",
    "y_val_tensor =  [torch.cuda.FloatTensor([cls_arr.index(label)]) for label in y_val]\n",
    "y_test_tensor =  [torch.cuda.FloatTensor([cls_arr.index(label)]) for label in y_test]"
   ]
  },
  {
   "cell_type": "code",
   "execution_count": 39,
   "metadata": {},
   "outputs": [],
   "source": [
    "max_seq_len = max([len(seq) for seq in itertools.chain.from_iterable(x_train_vec +x_val_vec + x_test_vec)])\n",
    "max_sent_len = max([len(sent) for sent in (x_train_vec + x_val_vec + x_test_vec)])"
   ]
  },
  {
   "cell_type": "code",
   "execution_count": 40,
   "metadata": {},
   "outputs": [
    {
     "data": {
      "text/plain": [
       "5"
      ]
     },
     "execution_count": 40,
     "metadata": {},
     "output_type": "execute_result"
    }
   ],
   "source": [
    "max_seq_len  # maximum number of sequences in a document "
   ]
  },
  {
   "cell_type": "code",
   "execution_count": 41,
   "metadata": {},
   "outputs": [
    {
     "data": {
      "text/plain": [
       "10"
      ]
     },
     "execution_count": 41,
     "metadata": {},
     "output_type": "execute_result"
    }
   ],
   "source": [
    "max_sent_len "
   ]
  },
  {
   "cell_type": "code",
   "execution_count": 42,
   "metadata": {},
   "outputs": [
    {
     "name": "stdout",
     "output_type": "stream",
     "text": [
      "<class 'list'>\n"
     ]
    }
   ],
   "source": [
    "print(type(y_train_tensor))"
   ]
  },
  {
   "cell_type": "code",
   "execution_count": 43,
   "metadata": {},
   "outputs": [
    {
     "data": {
      "text/plain": [
       "3.0"
      ]
     },
     "execution_count": 43,
     "metadata": {},
     "output_type": "execute_result"
    }
   ],
   "source": [
    "np.percentile(np.array([len(seq) for seq in itertools.chain.from_iterable(x_train_vec +x_val_vec + x_test_vec)]),90)"
   ]
  },
  {
   "cell_type": "code",
   "execution_count": 44,
   "metadata": {},
   "outputs": [
    {
     "data": {
      "text/plain": [
       "10.0"
      ]
     },
     "execution_count": 44,
     "metadata": {},
     "output_type": "execute_result"
    }
   ],
   "source": [
    "np.percentile(np.array([len(sent) for sent in (x_train_vec +x_val_vec + x_test_vec)]),90)"
   ]
  },
  {
   "cell_type": "code",
   "execution_count": 45,
   "metadata": {},
   "outputs": [],
   "source": [
    "## Padding the input \n",
    "X_train_pad = [sub_list + [[0]] * (max_sent_len - len(sub_list)) for sub_list in x_train_vec]\n",
    "X_val_pad = [sub_list + [[0]] * (max_sent_len - len(sub_list)) for sub_list in x_val_vec]\n",
    "X_test_pad = [sub_list + [[0]] * (max_sent_len - len(sub_list)) for sub_list in x_test_vec]"
   ]
  },
  {
   "cell_type": "code",
   "execution_count": 47,
   "metadata": {},
   "outputs": [
    {
     "name": "stdout",
     "output_type": "stream",
     "text": [
      "<class 'list'> <class 'list'> <class 'list'>\n"
     ]
    }
   ],
   "source": [
    "print(type(X_train_pad), type(X_val_pad), type(X_test_pad))"
   ]
  },
  {
   "cell_type": "code",
   "execution_count": 48,
   "metadata": {},
   "outputs": [],
   "source": [
    "batch_size = 64"
   ]
  },
  {
   "cell_type": "code",
   "execution_count": 62,
   "metadata": {},
   "outputs": [],
   "source": [
    "def train_data(batch_size, review, targets, sent_attn_model, sent_optimizer, criterion):\n",
    "\n",
    "    state_word = sent_attn_model.init_hidden_word()\n",
    "    state_sent = sent_attn_model.init_hidden_sent()\n",
    "    sent_optimizer.zero_grad()\n",
    "            \n",
    "    y_pred, state_sent = sent_attn_model(review, state_sent, state_word)\n",
    "\n",
    "    loss = criterion(y_pred.cuda(), torch.cuda.LongTensor(targets)) \n",
    "\n",
    "    max_index = y_pred.max(dim = 1)[1]\n",
    "    correct = (max_index == torch.cuda.LongTensor(targets)).sum()\n",
    "    acc = float(correct)/batch_size\n",
    "\n",
    "    loss.backward()\n",
    "    \n",
    "    sent_optimizer.step()\n",
    "    \n",
    "#     return torch.tensor(loss).float(),acc\n",
    "    return loss.clone().detach(), acc"
   ]
  },
  {
   "cell_type": "code",
   "execution_count": 50,
   "metadata": {},
   "outputs": [],
   "source": [
    "hid_size = 100\n",
    "embedsize = 200 "
   ]
  },
  {
   "cell_type": "code",
   "execution_count": 51,
   "metadata": {},
   "outputs": [],
   "source": [
    "sent_attn = SentenceRNN(vocab_size,embedsize,batch_size,hid_size,classes)\n",
    "sent_attn.cuda()\n",
    "sent_attn.wordRNN.embed.from_pretrained(weights)\n",
    "torch.backends.cudnn.benchmark=True"
   ]
  },
  {
   "cell_type": "code",
   "execution_count": 52,
   "metadata": {},
   "outputs": [],
   "source": [
    "learning_rate = 1e-3\n",
    "momentum = 0.9\n",
    "\n",
    "sent_optimizer = torch.optim.SGD(sent_attn.parameters(), lr=learning_rate, momentum= momentum)\n",
    "\n",
    "criterion = nn.NLLLoss()"
   ]
  },
  {
   "cell_type": "code",
   "execution_count": 53,
   "metadata": {},
   "outputs": [],
   "source": [
    "import time\n",
    "import math\n",
    "\n",
    "def timeSince(since):\n",
    "    now = time.time()\n",
    "    s = now - since\n",
    "    m = math.floor(s / 60)\n",
    "    s -= m * 60\n",
    "    return '%dm %ds' % (m, s)"
   ]
  },
  {
   "cell_type": "code",
   "execution_count": 54,
   "metadata": {},
   "outputs": [],
   "source": [
    "def gen_batch(x,y,batch_size):\n",
    "    k = random.sample(range(len(x)-1),batch_size)\n",
    "    x_batch=[]\n",
    "    y_batch=[]\n",
    "\n",
    "    for t in k:\n",
    "        x_batch.append(x[t])\n",
    "        y_batch.append(y[t])\n",
    "\n",
    "    return [x_batch,y_batch]"
   ]
  },
  {
   "cell_type": "code",
   "execution_count": 55,
   "metadata": {},
   "outputs": [],
   "source": [
    "def validation_accuracy(batch_size, x_val,y_val,sent_attn_model):\n",
    "    acc = []\n",
    "    val_length = len(x_val)\n",
    "    for j in range(int(val_length/batch_size)):\n",
    "        x,y = gen_batch(x_val,y_val,batch_size)\n",
    "        state_word = sent_attn_model.init_hidden_word()\n",
    "        state_sent = sent_attn_model.init_hidden_sent()\n",
    "        \n",
    "        y_pred, state_sent = sent_attn_model(x, state_sent, state_word)\n",
    "        max_index = y_pred.max(dim = 1)[1]\n",
    "        correct = (max_index == torch.cuda.LongTensor(y)).sum()\n",
    "        acc.append(float(correct)/batch_size)\n",
    "    return np.mean(acc)"
   ]
  },
  {
   "cell_type": "code",
   "execution_count": 70,
   "metadata": {},
   "outputs": [],
   "source": [
    "def train_early_stopping(batch_size, x_train, y_train, x_val, y_val, sent_attn_model,\n",
    "                         sent_attn_optimiser, loss_criterion, num_epoch,\n",
    "                         print_loss_every=50, code_test=True):\n",
    "    start = time.time()\n",
    "    loss_full = []\n",
    "    acc_full = []\n",
    "    val_acc = []\n",
    "    train_length = len(x_train)\n",
    "    for i in range(1, num_epoch + 1):\n",
    "        loss_epoch = []\n",
    "        acc_epoch = []\n",
    "        for j in range(int(train_length / batch_size)):\n",
    "            x, y = gen_batch(x_train, y_train, batch_size)\n",
    "            loss, acc = train_data(batch_size, x, y, sent_attn_model, sent_attn_optimiser, loss_criterion)            \n",
    "            loss_epoch.append(loss.item())\n",
    "            acc_epoch.append(acc)\n",
    "            if (code_test and j % int(print_loss_every / batch_size) == 0):\n",
    "                print('Loss at %d paragraphs, %d epoch,(%s) is %f' % (\n",
    "                    j * batch_size, i, timeSince(start), np.mean(loss_epoch)))\n",
    "                print('Accuracy at %d paragraphs, %d epoch,(%s) is %f' % (\n",
    "                    j * batch_size, i, timeSince(start), np.mean(acc_epoch)))\n",
    "        loss_full.append(np.mean(loss_epoch))\n",
    "        acc_full.append(np.mean(acc_epoch))\n",
    "        torch.save(sent_attn_model.state_dict(), 'sent_attn_model_yelp.pth')\n",
    "        print('Loss after %d epoch,(%s) is %f' % (i, timeSince(start), np.mean(loss_epoch)))\n",
    "        print('Train Accuracy after %d epoch,(%s) is %f' % (i, timeSince(start), np.mean(acc_epoch)))\n",
    "\n",
    "        val_acc.append(validation_accuracy(batch_size, x_val, y_val, sent_attn_model))\n",
    "        print('Validation Accuracy after %d epoch,(%s) is %f' % (i, timeSince(start), val_acc[-1]))\n",
    "    return loss_full, acc_full, val_acc\n"
   ]
  },
  {
   "cell_type": "code",
   "execution_count": 73,
   "metadata": {},
   "outputs": [],
   "source": [
    "epoch = 200"
   ]
  },
  {
   "cell_type": "code",
   "execution_count": 74,
   "metadata": {
    "scrolled": true
   },
   "outputs": [
    {
     "name": "stdout",
     "output_type": "stream",
     "text": [
      "Loss after 1 epoch,(0m 3s) is 1.373221\n",
      "Train Accuracy after 1 epoch,(0m 3s) is 0.617750\n",
      "Validation Accuracy after 1 epoch,(0m 3s) is 0.639583\n",
      "Loss after 2 epoch,(0m 6s) is 1.318813\n",
      "Train Accuracy after 2 epoch,(0m 6s) is 0.642625\n",
      "Validation Accuracy after 2 epoch,(0m 6s) is 0.615625\n",
      "Loss after 3 epoch,(0m 10s) is 1.355126\n",
      "Train Accuracy after 3 epoch,(0m 10s) is 0.621125\n",
      "Validation Accuracy after 3 epoch,(0m 10s) is 0.645833\n",
      "Loss after 4 epoch,(0m 13s) is 1.369635\n",
      "Train Accuracy after 4 epoch,(0m 13s) is 0.622375\n",
      "Validation Accuracy after 4 epoch,(0m 14s) is 0.631250\n",
      "Loss after 5 epoch,(0m 17s) is 1.331132\n",
      "Train Accuracy after 5 epoch,(0m 17s) is 0.629875\n",
      "Validation Accuracy after 5 epoch,(0m 17s) is 0.654167\n",
      "Loss after 6 epoch,(0m 21s) is 1.355022\n",
      "Train Accuracy after 6 epoch,(0m 21s) is 0.617125\n",
      "Validation Accuracy after 6 epoch,(0m 21s) is 0.635417\n",
      "Loss after 7 epoch,(0m 25s) is 1.333594\n",
      "Train Accuracy after 7 epoch,(0m 25s) is 0.626250\n",
      "Validation Accuracy after 7 epoch,(0m 25s) is 0.654167\n",
      "Loss after 8 epoch,(0m 29s) is 1.332214\n",
      "Train Accuracy after 8 epoch,(0m 29s) is 0.627000\n",
      "Validation Accuracy after 8 epoch,(0m 29s) is 0.652083\n",
      "Loss after 9 epoch,(0m 32s) is 1.345845\n",
      "Train Accuracy after 9 epoch,(0m 32s) is 0.616500\n",
      "Validation Accuracy after 9 epoch,(0m 33s) is 0.652083\n",
      "Loss after 10 epoch,(0m 36s) is 1.341852\n",
      "Train Accuracy after 10 epoch,(0m 36s) is 0.617625\n",
      "Validation Accuracy after 10 epoch,(0m 36s) is 0.630208\n",
      "Loss after 11 epoch,(0m 40s) is 1.333062\n",
      "Train Accuracy after 11 epoch,(0m 40s) is 0.624625\n",
      "Validation Accuracy after 11 epoch,(0m 40s) is 0.646875\n",
      "Loss after 12 epoch,(0m 44s) is 1.310314\n",
      "Train Accuracy after 12 epoch,(0m 44s) is 0.628875\n",
      "Validation Accuracy after 12 epoch,(0m 44s) is 0.635417\n",
      "Loss after 13 epoch,(0m 48s) is 1.324215\n",
      "Train Accuracy after 13 epoch,(0m 48s) is 0.622375\n",
      "Validation Accuracy after 13 epoch,(0m 48s) is 0.642708\n",
      "Loss after 14 epoch,(0m 52s) is 1.317421\n",
      "Train Accuracy after 14 epoch,(0m 52s) is 0.624750\n",
      "Validation Accuracy after 14 epoch,(0m 52s) is 0.664583\n",
      "Loss after 15 epoch,(0m 56s) is 1.301101\n",
      "Train Accuracy after 15 epoch,(0m 56s) is 0.632625\n",
      "Validation Accuracy after 15 epoch,(0m 56s) is 0.608333\n",
      "Loss after 16 epoch,(0m 59s) is 1.316448\n",
      "Train Accuracy after 16 epoch,(0m 59s) is 0.618500\n",
      "Validation Accuracy after 16 epoch,(1m 0s) is 0.640625\n",
      "Loss after 17 epoch,(1m 3s) is 1.315405\n",
      "Train Accuracy after 17 epoch,(1m 3s) is 0.625375\n",
      "Validation Accuracy after 17 epoch,(1m 3s) is 0.627083\n",
      "Loss after 18 epoch,(1m 7s) is 1.319175\n",
      "Train Accuracy after 18 epoch,(1m 7s) is 0.622125\n",
      "Validation Accuracy after 18 epoch,(1m 7s) is 0.627083\n",
      "Loss after 19 epoch,(1m 11s) is 1.261502\n",
      "Train Accuracy after 19 epoch,(1m 11s) is 0.635875\n",
      "Validation Accuracy after 19 epoch,(1m 11s) is 0.653125\n",
      "Loss after 20 epoch,(1m 14s) is 1.308740\n",
      "Train Accuracy after 20 epoch,(1m 14s) is 0.627500\n",
      "Validation Accuracy after 20 epoch,(1m 15s) is 0.645833\n",
      "Loss after 21 epoch,(1m 18s) is 1.306029\n",
      "Train Accuracy after 21 epoch,(1m 18s) is 0.627250\n",
      "Validation Accuracy after 21 epoch,(1m 18s) is 0.623958\n",
      "Loss after 22 epoch,(1m 22s) is 1.298384\n",
      "Train Accuracy after 22 epoch,(1m 22s) is 0.624375\n",
      "Validation Accuracy after 22 epoch,(1m 22s) is 0.620833\n",
      "Loss after 23 epoch,(1m 25s) is 1.307243\n",
      "Train Accuracy after 23 epoch,(1m 25s) is 0.627875\n",
      "Validation Accuracy after 23 epoch,(1m 25s) is 0.634375\n",
      "Loss after 24 epoch,(1m 29s) is 1.296252\n",
      "Train Accuracy after 24 epoch,(1m 29s) is 0.627250\n",
      "Validation Accuracy after 24 epoch,(1m 29s) is 0.656250\n",
      "Loss after 25 epoch,(1m 33s) is 1.298772\n",
      "Train Accuracy after 25 epoch,(1m 33s) is 0.625750\n",
      "Validation Accuracy after 25 epoch,(1m 33s) is 0.613542\n",
      "Loss after 26 epoch,(1m 36s) is 1.293880\n",
      "Train Accuracy after 26 epoch,(1m 36s) is 0.626625\n",
      "Validation Accuracy after 26 epoch,(1m 36s) is 0.639583\n",
      "Loss after 27 epoch,(1m 40s) is 1.281317\n",
      "Train Accuracy after 27 epoch,(1m 40s) is 0.629000\n",
      "Validation Accuracy after 27 epoch,(1m 40s) is 0.630208\n",
      "Loss after 28 epoch,(1m 43s) is 1.287534\n",
      "Train Accuracy after 28 epoch,(1m 43s) is 0.629000\n",
      "Validation Accuracy after 28 epoch,(1m 43s) is 0.618750\n",
      "Loss after 29 epoch,(1m 46s) is 1.287285\n",
      "Train Accuracy after 29 epoch,(1m 46s) is 0.627750\n",
      "Validation Accuracy after 29 epoch,(1m 46s) is 0.612500\n",
      "Loss after 30 epoch,(1m 50s) is 1.270226\n",
      "Train Accuracy after 30 epoch,(1m 50s) is 0.626750\n",
      "Validation Accuracy after 30 epoch,(1m 50s) is 0.646875\n",
      "Loss after 31 epoch,(1m 53s) is 1.270192\n",
      "Train Accuracy after 31 epoch,(1m 53s) is 0.632375\n",
      "Validation Accuracy after 31 epoch,(1m 53s) is 0.637500\n",
      "Loss after 32 epoch,(1m 56s) is 1.256514\n",
      "Train Accuracy after 32 epoch,(1m 56s) is 0.638375\n",
      "Validation Accuracy after 32 epoch,(1m 56s) is 0.626042\n",
      "Loss after 33 epoch,(1m 59s) is 1.273116\n",
      "Train Accuracy after 33 epoch,(1m 59s) is 0.633375\n",
      "Validation Accuracy after 33 epoch,(2m 0s) is 0.633333\n",
      "Loss after 34 epoch,(2m 3s) is 1.299201\n",
      "Train Accuracy after 34 epoch,(2m 3s) is 0.620375\n",
      "Validation Accuracy after 34 epoch,(2m 3s) is 0.645833\n",
      "Loss after 35 epoch,(2m 6s) is 1.283368\n",
      "Train Accuracy after 35 epoch,(2m 6s) is 0.625625\n",
      "Validation Accuracy after 35 epoch,(2m 6s) is 0.630208\n",
      "Loss after 36 epoch,(2m 9s) is 1.291711\n",
      "Train Accuracy after 36 epoch,(2m 9s) is 0.620750\n",
      "Validation Accuracy after 36 epoch,(2m 9s) is 0.609375\n",
      "Loss after 37 epoch,(2m 13s) is 1.262610\n",
      "Train Accuracy after 37 epoch,(2m 13s) is 0.631375\n",
      "Validation Accuracy after 37 epoch,(2m 13s) is 0.613542\n",
      "Loss after 38 epoch,(2m 16s) is 1.282791\n",
      "Train Accuracy after 38 epoch,(2m 16s) is 0.626875\n",
      "Validation Accuracy after 38 epoch,(2m 16s) is 0.620833\n",
      "Loss after 39 epoch,(2m 20s) is 1.299029\n",
      "Train Accuracy after 39 epoch,(2m 20s) is 0.623750\n",
      "Validation Accuracy after 39 epoch,(2m 20s) is 0.643750\n",
      "Loss after 40 epoch,(2m 23s) is 1.286851\n",
      "Train Accuracy after 40 epoch,(2m 23s) is 0.621750\n",
      "Validation Accuracy after 40 epoch,(2m 23s) is 0.669792\n",
      "Loss after 41 epoch,(2m 27s) is 1.263071\n",
      "Train Accuracy after 41 epoch,(2m 27s) is 0.627000\n",
      "Validation Accuracy after 41 epoch,(2m 27s) is 0.634375\n",
      "Loss after 42 epoch,(2m 30s) is 1.270195\n",
      "Train Accuracy after 42 epoch,(2m 30s) is 0.628375\n",
      "Validation Accuracy after 42 epoch,(2m 30s) is 0.623958\n",
      "Loss after 43 epoch,(2m 33s) is 1.288077\n",
      "Train Accuracy after 43 epoch,(2m 33s) is 0.626875\n",
      "Validation Accuracy after 43 epoch,(2m 33s) is 0.636458\n",
      "Loss after 44 epoch,(2m 36s) is 1.295349\n",
      "Train Accuracy after 44 epoch,(2m 36s) is 0.622750\n",
      "Validation Accuracy after 44 epoch,(2m 37s) is 0.639583\n",
      "Loss after 45 epoch,(2m 40s) is 1.270442\n",
      "Train Accuracy after 45 epoch,(2m 40s) is 0.627625\n",
      "Validation Accuracy after 45 epoch,(2m 40s) is 0.615625\n",
      "Loss after 46 epoch,(2m 44s) is 1.260178\n",
      "Train Accuracy after 46 epoch,(2m 44s) is 0.631875\n",
      "Validation Accuracy after 46 epoch,(2m 44s) is 0.614583\n",
      "Loss after 47 epoch,(2m 47s) is 1.283178\n",
      "Train Accuracy after 47 epoch,(2m 47s) is 0.624375\n",
      "Validation Accuracy after 47 epoch,(2m 47s) is 0.631250\n",
      "Loss after 48 epoch,(2m 51s) is 1.272187\n",
      "Train Accuracy after 48 epoch,(2m 51s) is 0.630000\n",
      "Validation Accuracy after 48 epoch,(2m 51s) is 0.630208\n",
      "Loss after 49 epoch,(2m 54s) is 1.257526\n",
      "Train Accuracy after 49 epoch,(2m 54s) is 0.627500\n",
      "Validation Accuracy after 49 epoch,(2m 54s) is 0.621875\n",
      "Loss after 50 epoch,(2m 57s) is 1.283028\n",
      "Train Accuracy after 50 epoch,(2m 57s) is 0.628000\n",
      "Validation Accuracy after 50 epoch,(2m 58s) is 0.643750\n",
      "Loss after 51 epoch,(3m 1s) is 1.268162\n",
      "Train Accuracy after 51 epoch,(3m 1s) is 0.628625\n",
      "Validation Accuracy after 51 epoch,(3m 1s) is 0.622917\n",
      "Loss after 52 epoch,(3m 5s) is 1.238560\n",
      "Train Accuracy after 52 epoch,(3m 5s) is 0.633375\n",
      "Validation Accuracy after 52 epoch,(3m 5s) is 0.641667\n",
      "Loss after 53 epoch,(3m 8s) is 1.266714\n",
      "Train Accuracy after 53 epoch,(3m 8s) is 0.625750\n",
      "Validation Accuracy after 53 epoch,(3m 8s) is 0.634375\n",
      "Loss after 54 epoch,(3m 12s) is 1.266982\n",
      "Train Accuracy after 54 epoch,(3m 12s) is 0.634500\n",
      "Validation Accuracy after 54 epoch,(3m 12s) is 0.653125\n",
      "Loss after 55 epoch,(3m 15s) is 1.274115\n",
      "Train Accuracy after 55 epoch,(3m 15s) is 0.629125\n",
      "Validation Accuracy after 55 epoch,(3m 15s) is 0.648958\n",
      "Loss after 56 epoch,(3m 18s) is 1.286639\n",
      "Train Accuracy after 56 epoch,(3m 18s) is 0.621125\n",
      "Validation Accuracy after 56 epoch,(3m 19s) is 0.615625\n"
     ]
    },
    {
     "name": "stdout",
     "output_type": "stream",
     "text": [
      "Loss after 57 epoch,(3m 22s) is 1.249948\n",
      "Train Accuracy after 57 epoch,(3m 22s) is 0.629250\n",
      "Validation Accuracy after 57 epoch,(3m 22s) is 0.642708\n",
      "Loss after 58 epoch,(3m 25s) is 1.275459\n",
      "Train Accuracy after 58 epoch,(3m 25s) is 0.622875\n",
      "Validation Accuracy after 58 epoch,(3m 25s) is 0.619792\n",
      "Loss after 59 epoch,(3m 28s) is 1.252634\n",
      "Train Accuracy after 59 epoch,(3m 28s) is 0.631625\n",
      "Validation Accuracy after 59 epoch,(3m 29s) is 0.598958\n",
      "Loss after 60 epoch,(3m 31s) is 1.251668\n",
      "Train Accuracy after 60 epoch,(3m 31s) is 0.625750\n",
      "Validation Accuracy after 60 epoch,(3m 32s) is 0.625000\n",
      "Loss after 61 epoch,(3m 35s) is 1.247203\n",
      "Train Accuracy after 61 epoch,(3m 35s) is 0.631125\n",
      "Validation Accuracy after 61 epoch,(3m 35s) is 0.639583\n",
      "Loss after 62 epoch,(3m 38s) is 1.299049\n",
      "Train Accuracy after 62 epoch,(3m 38s) is 0.618250\n",
      "Validation Accuracy after 62 epoch,(3m 38s) is 0.608333\n",
      "Loss after 63 epoch,(3m 42s) is 1.249601\n",
      "Train Accuracy after 63 epoch,(3m 42s) is 0.631000\n",
      "Validation Accuracy after 63 epoch,(3m 42s) is 0.636458\n",
      "Loss after 64 epoch,(3m 45s) is 1.261399\n",
      "Train Accuracy after 64 epoch,(3m 45s) is 0.634000\n",
      "Validation Accuracy after 64 epoch,(3m 45s) is 0.636458\n",
      "Loss after 65 epoch,(3m 48s) is 1.291438\n",
      "Train Accuracy after 65 epoch,(3m 48s) is 0.627750\n",
      "Validation Accuracy after 65 epoch,(3m 49s) is 0.632292\n",
      "Loss after 66 epoch,(3m 52s) is 1.271467\n",
      "Train Accuracy after 66 epoch,(3m 52s) is 0.623375\n",
      "Validation Accuracy after 66 epoch,(3m 52s) is 0.639583\n",
      "Loss after 67 epoch,(3m 55s) is 1.243851\n",
      "Train Accuracy after 67 epoch,(3m 55s) is 0.630875\n",
      "Validation Accuracy after 67 epoch,(3m 55s) is 0.635417\n",
      "Loss after 68 epoch,(3m 58s) is 1.234765\n",
      "Train Accuracy after 68 epoch,(3m 58s) is 0.637250\n",
      "Validation Accuracy after 68 epoch,(3m 58s) is 0.654167\n",
      "Loss after 69 epoch,(4m 1s) is 1.240965\n",
      "Train Accuracy after 69 epoch,(4m 1s) is 0.637750\n",
      "Validation Accuracy after 69 epoch,(4m 1s) is 0.640625\n",
      "Loss after 70 epoch,(4m 4s) is 1.271622\n",
      "Train Accuracy after 70 epoch,(4m 4s) is 0.623750\n",
      "Validation Accuracy after 70 epoch,(4m 5s) is 0.647917\n",
      "Loss after 71 epoch,(4m 8s) is 1.274836\n",
      "Train Accuracy after 71 epoch,(4m 8s) is 0.622375\n",
      "Validation Accuracy after 71 epoch,(4m 8s) is 0.628125\n",
      "Loss after 72 epoch,(4m 11s) is 1.284891\n",
      "Train Accuracy after 72 epoch,(4m 11s) is 0.619000\n",
      "Validation Accuracy after 72 epoch,(4m 11s) is 0.610417\n",
      "Loss after 73 epoch,(4m 15s) is 1.248958\n",
      "Train Accuracy after 73 epoch,(4m 15s) is 0.629000\n",
      "Validation Accuracy after 73 epoch,(4m 15s) is 0.605208\n",
      "Loss after 74 epoch,(4m 19s) is 1.278137\n",
      "Train Accuracy after 74 epoch,(4m 19s) is 0.621000\n",
      "Validation Accuracy after 74 epoch,(4m 19s) is 0.621875\n",
      "Loss after 75 epoch,(4m 22s) is 1.269778\n",
      "Train Accuracy after 75 epoch,(4m 22s) is 0.618750\n",
      "Validation Accuracy after 75 epoch,(4m 22s) is 0.620833\n",
      "Loss after 76 epoch,(4m 25s) is 1.265601\n",
      "Train Accuracy after 76 epoch,(4m 25s) is 0.626125\n",
      "Validation Accuracy after 76 epoch,(4m 25s) is 0.653125\n",
      "Loss after 77 epoch,(4m 28s) is 1.254719\n",
      "Train Accuracy after 77 epoch,(4m 28s) is 0.627125\n",
      "Validation Accuracy after 77 epoch,(4m 28s) is 0.643750\n",
      "Loss after 78 epoch,(4m 32s) is 1.271458\n",
      "Train Accuracy after 78 epoch,(4m 32s) is 0.615875\n",
      "Validation Accuracy after 78 epoch,(4m 32s) is 0.658333\n",
      "Loss after 79 epoch,(4m 35s) is 1.273952\n",
      "Train Accuracy after 79 epoch,(4m 35s) is 0.626250\n",
      "Validation Accuracy after 79 epoch,(4m 35s) is 0.658333\n",
      "Loss after 80 epoch,(4m 39s) is 1.259831\n",
      "Train Accuracy after 80 epoch,(4m 39s) is 0.629875\n",
      "Validation Accuracy after 80 epoch,(4m 39s) is 0.655208\n",
      "Loss after 81 epoch,(4m 42s) is 1.258586\n",
      "Train Accuracy after 81 epoch,(4m 42s) is 0.624500\n",
      "Validation Accuracy after 81 epoch,(4m 42s) is 0.647917\n",
      "Loss after 82 epoch,(4m 46s) is 1.246115\n",
      "Train Accuracy after 82 epoch,(4m 46s) is 0.631500\n",
      "Validation Accuracy after 82 epoch,(4m 46s) is 0.642708\n",
      "Loss after 83 epoch,(4m 49s) is 1.253841\n",
      "Train Accuracy after 83 epoch,(4m 49s) is 0.624500\n",
      "Validation Accuracy after 83 epoch,(4m 50s) is 0.623958\n",
      "Loss after 84 epoch,(4m 53s) is 1.244085\n",
      "Train Accuracy after 84 epoch,(4m 53s) is 0.633875\n",
      "Validation Accuracy after 84 epoch,(4m 54s) is 0.660417\n",
      "Loss after 85 epoch,(4m 57s) is 1.262866\n",
      "Train Accuracy after 85 epoch,(4m 57s) is 0.629625\n",
      "Validation Accuracy after 85 epoch,(4m 57s) is 0.620833\n",
      "Loss after 86 epoch,(5m 1s) is 1.264263\n",
      "Train Accuracy after 86 epoch,(5m 1s) is 0.622750\n",
      "Validation Accuracy after 86 epoch,(5m 1s) is 0.629167\n",
      "Loss after 87 epoch,(5m 5s) is 1.251254\n",
      "Train Accuracy after 87 epoch,(5m 5s) is 0.632000\n",
      "Validation Accuracy after 87 epoch,(5m 5s) is 0.626042\n",
      "Loss after 88 epoch,(5m 8s) is 1.261759\n",
      "Train Accuracy after 88 epoch,(5m 8s) is 0.624125\n",
      "Validation Accuracy after 88 epoch,(5m 8s) is 0.633333\n",
      "Loss after 89 epoch,(5m 12s) is 1.248181\n",
      "Train Accuracy after 89 epoch,(5m 12s) is 0.632000\n",
      "Validation Accuracy after 89 epoch,(5m 12s) is 0.642708\n",
      "Loss after 90 epoch,(5m 15s) is 1.277433\n",
      "Train Accuracy after 90 epoch,(5m 15s) is 0.620125\n",
      "Validation Accuracy after 90 epoch,(5m 15s) is 0.636458\n",
      "Loss after 91 epoch,(5m 18s) is 1.256983\n",
      "Train Accuracy after 91 epoch,(5m 18s) is 0.628750\n",
      "Validation Accuracy after 91 epoch,(5m 18s) is 0.628125\n",
      "Loss after 92 epoch,(5m 21s) is 1.246864\n",
      "Train Accuracy after 92 epoch,(5m 21s) is 0.631875\n",
      "Validation Accuracy after 92 epoch,(5m 22s) is 0.627083\n",
      "Loss after 93 epoch,(5m 25s) is 1.251023\n",
      "Train Accuracy after 93 epoch,(5m 25s) is 0.626500\n",
      "Validation Accuracy after 93 epoch,(5m 25s) is 0.616667\n",
      "Loss after 94 epoch,(5m 28s) is 1.280595\n",
      "Train Accuracy after 94 epoch,(5m 28s) is 0.622750\n",
      "Validation Accuracy after 94 epoch,(5m 28s) is 0.646875\n",
      "Loss after 95 epoch,(5m 31s) is 1.272479\n",
      "Train Accuracy after 95 epoch,(5m 31s) is 0.624750\n",
      "Validation Accuracy after 95 epoch,(5m 32s) is 0.610417\n",
      "Loss after 96 epoch,(5m 35s) is 1.276265\n",
      "Train Accuracy after 96 epoch,(5m 35s) is 0.622750\n",
      "Validation Accuracy after 96 epoch,(5m 35s) is 0.628125\n",
      "Loss after 97 epoch,(5m 38s) is 1.276401\n",
      "Train Accuracy after 97 epoch,(5m 38s) is 0.624250\n",
      "Validation Accuracy after 97 epoch,(5m 39s) is 0.604167\n",
      "Loss after 98 epoch,(5m 42s) is 1.247599\n",
      "Train Accuracy after 98 epoch,(5m 42s) is 0.627125\n",
      "Validation Accuracy after 98 epoch,(5m 42s) is 0.629167\n",
      "Loss after 99 epoch,(5m 45s) is 1.278483\n",
      "Train Accuracy after 99 epoch,(5m 45s) is 0.618875\n",
      "Validation Accuracy after 99 epoch,(5m 45s) is 0.646875\n",
      "Loss after 100 epoch,(5m 48s) is 1.249405\n",
      "Train Accuracy after 100 epoch,(5m 48s) is 0.632375\n",
      "Validation Accuracy after 100 epoch,(5m 48s) is 0.659375\n",
      "Loss after 101 epoch,(5m 52s) is 1.252976\n",
      "Train Accuracy after 101 epoch,(5m 52s) is 0.626375\n",
      "Validation Accuracy after 101 epoch,(5m 52s) is 0.627083\n",
      "Loss after 102 epoch,(5m 55s) is 1.241453\n",
      "Train Accuracy after 102 epoch,(5m 55s) is 0.637875\n",
      "Validation Accuracy after 102 epoch,(5m 55s) is 0.621875\n",
      "Loss after 103 epoch,(5m 59s) is 1.259323\n",
      "Train Accuracy after 103 epoch,(5m 59s) is 0.627375\n",
      "Validation Accuracy after 103 epoch,(5m 59s) is 0.613542\n",
      "Loss after 104 epoch,(6m 2s) is 1.252668\n",
      "Train Accuracy after 104 epoch,(6m 2s) is 0.626750\n",
      "Validation Accuracy after 104 epoch,(6m 2s) is 0.632292\n",
      "Loss after 105 epoch,(6m 5s) is 1.279388\n",
      "Train Accuracy after 105 epoch,(6m 5s) is 0.619500\n",
      "Validation Accuracy after 105 epoch,(6m 6s) is 0.658333\n",
      "Loss after 106 epoch,(6m 9s) is 1.256647\n",
      "Train Accuracy after 106 epoch,(6m 9s) is 0.626875\n",
      "Validation Accuracy after 106 epoch,(6m 9s) is 0.622917\n",
      "Loss after 107 epoch,(6m 12s) is 1.262432\n",
      "Train Accuracy after 107 epoch,(6m 12s) is 0.620375\n",
      "Validation Accuracy after 107 epoch,(6m 13s) is 0.636458\n",
      "Loss after 108 epoch,(6m 16s) is 1.252935\n",
      "Train Accuracy after 108 epoch,(6m 16s) is 0.625625\n",
      "Validation Accuracy after 108 epoch,(6m 16s) is 0.628125\n",
      "Loss after 109 epoch,(6m 19s) is 1.262246\n",
      "Train Accuracy after 109 epoch,(6m 19s) is 0.626875\n",
      "Validation Accuracy after 109 epoch,(6m 19s) is 0.667708\n",
      "Loss after 110 epoch,(6m 23s) is 1.263554\n",
      "Train Accuracy after 110 epoch,(6m 23s) is 0.629625\n",
      "Validation Accuracy after 110 epoch,(6m 23s) is 0.603125\n",
      "Loss after 111 epoch,(6m 26s) is 1.259924\n",
      "Train Accuracy after 111 epoch,(6m 26s) is 0.620625\n",
      "Validation Accuracy after 111 epoch,(6m 26s) is 0.642708\n",
      "Loss after 112 epoch,(6m 30s) is 1.258470\n",
      "Train Accuracy after 112 epoch,(6m 30s) is 0.627125\n",
      "Validation Accuracy after 112 epoch,(6m 30s) is 0.665625\n"
     ]
    },
    {
     "name": "stdout",
     "output_type": "stream",
     "text": [
      "Loss after 113 epoch,(6m 33s) is 1.260129\n",
      "Train Accuracy after 113 epoch,(6m 33s) is 0.623625\n",
      "Validation Accuracy after 113 epoch,(6m 33s) is 0.625000\n",
      "Loss after 114 epoch,(6m 36s) is 1.269042\n",
      "Train Accuracy after 114 epoch,(6m 36s) is 0.615875\n",
      "Validation Accuracy after 114 epoch,(6m 36s) is 0.629167\n",
      "Loss after 115 epoch,(6m 40s) is 1.233700\n",
      "Train Accuracy after 115 epoch,(6m 40s) is 0.635375\n",
      "Validation Accuracy after 115 epoch,(6m 40s) is 0.643750\n",
      "Loss after 116 epoch,(6m 43s) is 1.273663\n",
      "Train Accuracy after 116 epoch,(6m 43s) is 0.624375\n",
      "Validation Accuracy after 116 epoch,(6m 43s) is 0.636458\n",
      "Loss after 117 epoch,(6m 47s) is 1.248992\n",
      "Train Accuracy after 117 epoch,(6m 47s) is 0.629375\n",
      "Validation Accuracy after 117 epoch,(6m 47s) is 0.625000\n",
      "Loss after 118 epoch,(6m 50s) is 1.287643\n",
      "Train Accuracy after 118 epoch,(6m 50s) is 0.614750\n",
      "Validation Accuracy after 118 epoch,(6m 50s) is 0.644792\n",
      "Loss after 119 epoch,(6m 54s) is 1.263796\n",
      "Train Accuracy after 119 epoch,(6m 54s) is 0.619750\n",
      "Validation Accuracy after 119 epoch,(6m 54s) is 0.632292\n",
      "Loss after 120 epoch,(6m 57s) is 1.257727\n",
      "Train Accuracy after 120 epoch,(6m 57s) is 0.618750\n",
      "Validation Accuracy after 120 epoch,(6m 57s) is 0.650000\n",
      "Loss after 121 epoch,(7m 0s) is 1.252584\n",
      "Train Accuracy after 121 epoch,(7m 0s) is 0.629875\n",
      "Validation Accuracy after 121 epoch,(7m 1s) is 0.589583\n",
      "Loss after 122 epoch,(7m 3s) is 1.248694\n",
      "Train Accuracy after 122 epoch,(7m 3s) is 0.627875\n",
      "Validation Accuracy after 122 epoch,(7m 4s) is 0.619792\n",
      "Loss after 123 epoch,(7m 7s) is 1.263311\n",
      "Train Accuracy after 123 epoch,(7m 7s) is 0.623500\n",
      "Validation Accuracy after 123 epoch,(7m 7s) is 0.631250\n",
      "Loss after 124 epoch,(7m 10s) is 1.253146\n",
      "Train Accuracy after 124 epoch,(7m 10s) is 0.626750\n",
      "Validation Accuracy after 124 epoch,(7m 10s) is 0.630208\n",
      "Loss after 125 epoch,(7m 13s) is 1.255392\n",
      "Train Accuracy after 125 epoch,(7m 13s) is 0.628000\n",
      "Validation Accuracy after 125 epoch,(7m 13s) is 0.632292\n",
      "Loss after 126 epoch,(7m 16s) is 1.272233\n",
      "Train Accuracy after 126 epoch,(7m 16s) is 0.624125\n",
      "Validation Accuracy after 126 epoch,(7m 17s) is 0.642708\n",
      "Loss after 127 epoch,(7m 20s) is 1.234518\n",
      "Train Accuracy after 127 epoch,(7m 20s) is 0.629875\n",
      "Validation Accuracy after 127 epoch,(7m 20s) is 0.628125\n",
      "Loss after 128 epoch,(7m 24s) is 1.259603\n",
      "Train Accuracy after 128 epoch,(7m 24s) is 0.626500\n",
      "Validation Accuracy after 128 epoch,(7m 24s) is 0.634375\n",
      "Loss after 129 epoch,(7m 27s) is 1.296025\n",
      "Train Accuracy after 129 epoch,(7m 27s) is 0.615125\n",
      "Validation Accuracy after 129 epoch,(7m 27s) is 0.626042\n",
      "Loss after 130 epoch,(7m 31s) is 1.280300\n",
      "Train Accuracy after 130 epoch,(7m 31s) is 0.617250\n",
      "Validation Accuracy after 130 epoch,(7m 31s) is 0.626042\n",
      "Loss after 131 epoch,(7m 34s) is 1.226475\n",
      "Train Accuracy after 131 epoch,(7m 34s) is 0.635500\n",
      "Validation Accuracy after 131 epoch,(7m 34s) is 0.663542\n",
      "Loss after 132 epoch,(7m 38s) is 1.239731\n",
      "Train Accuracy after 132 epoch,(7m 38s) is 0.632125\n",
      "Validation Accuracy after 132 epoch,(7m 38s) is 0.636458\n",
      "Loss after 133 epoch,(7m 41s) is 1.230878\n",
      "Train Accuracy after 133 epoch,(7m 41s) is 0.636500\n",
      "Validation Accuracy after 133 epoch,(7m 41s) is 0.630208\n",
      "Loss after 134 epoch,(7m 44s) is 1.246669\n",
      "Train Accuracy after 134 epoch,(7m 44s) is 0.629750\n",
      "Validation Accuracy after 134 epoch,(7m 44s) is 0.661458\n",
      "Loss after 135 epoch,(7m 47s) is 1.247237\n",
      "Train Accuracy after 135 epoch,(7m 47s) is 0.627500\n",
      "Validation Accuracy after 135 epoch,(7m 48s) is 0.634375\n",
      "Loss after 136 epoch,(7m 51s) is 1.254526\n",
      "Train Accuracy after 136 epoch,(7m 51s) is 0.629375\n",
      "Validation Accuracy after 136 epoch,(7m 51s) is 0.651042\n",
      "Loss after 137 epoch,(7m 54s) is 1.259339\n",
      "Train Accuracy after 137 epoch,(7m 54s) is 0.624125\n",
      "Validation Accuracy after 137 epoch,(7m 54s) is 0.629167\n",
      "Loss after 138 epoch,(7m 57s) is 1.260830\n",
      "Train Accuracy after 138 epoch,(7m 57s) is 0.630750\n",
      "Validation Accuracy after 138 epoch,(7m 58s) is 0.642708\n",
      "Loss after 139 epoch,(8m 1s) is 1.253008\n",
      "Train Accuracy after 139 epoch,(8m 1s) is 0.623750\n",
      "Validation Accuracy after 139 epoch,(8m 1s) is 0.633333\n",
      "Loss after 140 epoch,(8m 5s) is 1.259888\n",
      "Train Accuracy after 140 epoch,(8m 5s) is 0.619375\n",
      "Validation Accuracy after 140 epoch,(8m 5s) is 0.631250\n",
      "Loss after 141 epoch,(8m 8s) is 1.255826\n",
      "Train Accuracy after 141 epoch,(8m 8s) is 0.622000\n",
      "Validation Accuracy after 141 epoch,(8m 8s) is 0.622917\n",
      "Loss after 142 epoch,(8m 11s) is 1.244536\n",
      "Train Accuracy after 142 epoch,(8m 11s) is 0.629750\n",
      "Validation Accuracy after 142 epoch,(8m 11s) is 0.646875\n",
      "Loss after 143 epoch,(8m 14s) is 1.263422\n",
      "Train Accuracy after 143 epoch,(8m 14s) is 0.625500\n",
      "Validation Accuracy after 143 epoch,(8m 14s) is 0.613542\n",
      "Loss after 144 epoch,(8m 17s) is 1.256271\n",
      "Train Accuracy after 144 epoch,(8m 17s) is 0.628250\n",
      "Validation Accuracy after 144 epoch,(8m 17s) is 0.616667\n",
      "Loss after 145 epoch,(8m 20s) is 1.257588\n",
      "Train Accuracy after 145 epoch,(8m 20s) is 0.626000\n",
      "Validation Accuracy after 145 epoch,(8m 20s) is 0.651042\n",
      "Loss after 146 epoch,(8m 23s) is 1.248189\n",
      "Train Accuracy after 146 epoch,(8m 23s) is 0.628375\n",
      "Validation Accuracy after 146 epoch,(8m 24s) is 0.618750\n",
      "Loss after 147 epoch,(8m 27s) is 1.271849\n",
      "Train Accuracy after 147 epoch,(8m 27s) is 0.623125\n",
      "Validation Accuracy after 147 epoch,(8m 27s) is 0.632292\n",
      "Loss after 148 epoch,(8m 30s) is 1.238408\n",
      "Train Accuracy after 148 epoch,(8m 30s) is 0.631375\n",
      "Validation Accuracy after 148 epoch,(8m 30s) is 0.630208\n",
      "Loss after 149 epoch,(8m 34s) is 1.231720\n",
      "Train Accuracy after 149 epoch,(8m 34s) is 0.628250\n",
      "Validation Accuracy after 149 epoch,(8m 34s) is 0.621875\n",
      "Loss after 150 epoch,(8m 37s) is 1.243270\n",
      "Train Accuracy after 150 epoch,(8m 37s) is 0.622750\n",
      "Validation Accuracy after 150 epoch,(8m 37s) is 0.619792\n",
      "Loss after 151 epoch,(8m 40s) is 1.239389\n",
      "Train Accuracy after 151 epoch,(8m 40s) is 0.628750\n",
      "Validation Accuracy after 151 epoch,(8m 40s) is 0.626042\n",
      "Loss after 152 epoch,(8m 43s) is 1.240408\n",
      "Train Accuracy after 152 epoch,(8m 43s) is 0.626875\n",
      "Validation Accuracy after 152 epoch,(8m 43s) is 0.620833\n",
      "Loss after 153 epoch,(8m 47s) is 1.275116\n",
      "Train Accuracy after 153 epoch,(8m 47s) is 0.621000\n",
      "Validation Accuracy after 153 epoch,(8m 47s) is 0.640625\n",
      "Loss after 154 epoch,(8m 50s) is 1.242108\n",
      "Train Accuracy after 154 epoch,(8m 50s) is 0.630000\n",
      "Validation Accuracy after 154 epoch,(8m 50s) is 0.659375\n",
      "Loss after 155 epoch,(8m 53s) is 1.223766\n",
      "Train Accuracy after 155 epoch,(8m 53s) is 0.634625\n",
      "Validation Accuracy after 155 epoch,(8m 53s) is 0.642708\n",
      "Loss after 156 epoch,(8m 57s) is 1.231965\n",
      "Train Accuracy after 156 epoch,(8m 57s) is 0.627125\n",
      "Validation Accuracy after 156 epoch,(8m 57s) is 0.621875\n",
      "Loss after 157 epoch,(9m 0s) is 1.261005\n",
      "Train Accuracy after 157 epoch,(9m 0s) is 0.626875\n",
      "Validation Accuracy after 157 epoch,(9m 0s) is 0.661458\n",
      "Loss after 158 epoch,(9m 4s) is 1.255464\n",
      "Train Accuracy after 158 epoch,(9m 4s) is 0.627125\n",
      "Validation Accuracy after 158 epoch,(9m 4s) is 0.635417\n",
      "Loss after 159 epoch,(9m 7s) is 1.259547\n",
      "Train Accuracy after 159 epoch,(9m 7s) is 0.623625\n",
      "Validation Accuracy after 159 epoch,(9m 7s) is 0.635417\n",
      "Loss after 160 epoch,(9m 10s) is 1.247971\n",
      "Train Accuracy after 160 epoch,(9m 10s) is 0.623250\n",
      "Validation Accuracy after 160 epoch,(9m 11s) is 0.611458\n",
      "Loss after 161 epoch,(9m 14s) is 1.252425\n",
      "Train Accuracy after 161 epoch,(9m 14s) is 0.623000\n",
      "Validation Accuracy after 161 epoch,(9m 14s) is 0.644792\n",
      "Loss after 162 epoch,(9m 17s) is 1.241776\n",
      "Train Accuracy after 162 epoch,(9m 17s) is 0.628125\n",
      "Validation Accuracy after 162 epoch,(9m 17s) is 0.630208\n",
      "Loss after 163 epoch,(9m 20s) is 1.266385\n",
      "Train Accuracy after 163 epoch,(9m 20s) is 0.626750\n",
      "Validation Accuracy after 163 epoch,(9m 20s) is 0.636458\n",
      "Loss after 164 epoch,(9m 23s) is 1.257387\n",
      "Train Accuracy after 164 epoch,(9m 23s) is 0.628875\n",
      "Validation Accuracy after 164 epoch,(9m 23s) is 0.639583\n",
      "Loss after 165 epoch,(9m 26s) is 1.253070\n",
      "Train Accuracy after 165 epoch,(9m 26s) is 0.622625\n",
      "Validation Accuracy after 165 epoch,(9m 26s) is 0.642708\n",
      "Loss after 166 epoch,(9m 30s) is 1.222743\n",
      "Train Accuracy after 166 epoch,(9m 30s) is 0.630500\n",
      "Validation Accuracy after 166 epoch,(9m 30s) is 0.665625\n",
      "Loss after 167 epoch,(9m 33s) is 1.274867\n",
      "Train Accuracy after 167 epoch,(9m 33s) is 0.618000\n",
      "Validation Accuracy after 167 epoch,(9m 33s) is 0.631250\n"
     ]
    },
    {
     "name": "stdout",
     "output_type": "stream",
     "text": [
      "Loss after 168 epoch,(9m 37s) is 1.256444\n",
      "Train Accuracy after 168 epoch,(9m 37s) is 0.625625\n",
      "Validation Accuracy after 168 epoch,(9m 37s) is 0.634375\n",
      "Loss after 169 epoch,(9m 41s) is 1.260993\n",
      "Train Accuracy after 169 epoch,(9m 41s) is 0.625375\n",
      "Validation Accuracy after 169 epoch,(9m 41s) is 0.641667\n",
      "Loss after 170 epoch,(9m 44s) is 1.267667\n",
      "Train Accuracy after 170 epoch,(9m 44s) is 0.624125\n",
      "Validation Accuracy after 170 epoch,(9m 44s) is 0.625000\n",
      "Loss after 171 epoch,(9m 47s) is 1.247122\n",
      "Train Accuracy after 171 epoch,(9m 47s) is 0.625625\n",
      "Validation Accuracy after 171 epoch,(9m 47s) is 0.631250\n",
      "Loss after 172 epoch,(9m 50s) is 1.266407\n",
      "Train Accuracy after 172 epoch,(9m 50s) is 0.624750\n",
      "Validation Accuracy after 172 epoch,(9m 51s) is 0.648958\n",
      "Loss after 173 epoch,(9m 53s) is 1.243988\n",
      "Train Accuracy after 173 epoch,(9m 53s) is 0.632000\n",
      "Validation Accuracy after 173 epoch,(9m 53s) is 0.635417\n",
      "Loss after 174 epoch,(9m 57s) is 1.262513\n",
      "Train Accuracy after 174 epoch,(9m 57s) is 0.624375\n",
      "Validation Accuracy after 174 epoch,(9m 57s) is 0.650000\n",
      "Loss after 175 epoch,(10m 1s) is 1.248267\n",
      "Train Accuracy after 175 epoch,(10m 1s) is 0.623375\n",
      "Validation Accuracy after 175 epoch,(10m 1s) is 0.634375\n",
      "Loss after 176 epoch,(10m 4s) is 1.245336\n",
      "Train Accuracy after 176 epoch,(10m 4s) is 0.627375\n",
      "Validation Accuracy after 176 epoch,(10m 4s) is 0.627083\n",
      "Loss after 177 epoch,(10m 8s) is 1.277678\n",
      "Train Accuracy after 177 epoch,(10m 8s) is 0.616500\n",
      "Validation Accuracy after 177 epoch,(10m 8s) is 0.612500\n",
      "Loss after 178 epoch,(10m 11s) is 1.267792\n",
      "Train Accuracy after 178 epoch,(10m 11s) is 0.620875\n",
      "Validation Accuracy after 178 epoch,(10m 11s) is 0.617708\n",
      "Loss after 179 epoch,(10m 15s) is 1.258542\n",
      "Train Accuracy after 179 epoch,(10m 15s) is 0.621625\n",
      "Validation Accuracy after 179 epoch,(10m 15s) is 0.670833\n",
      "Loss after 180 epoch,(10m 18s) is 1.248431\n",
      "Train Accuracy after 180 epoch,(10m 18s) is 0.626250\n",
      "Validation Accuracy after 180 epoch,(10m 18s) is 0.659375\n",
      "Loss after 181 epoch,(10m 21s) is 1.246712\n",
      "Train Accuracy after 181 epoch,(10m 21s) is 0.628375\n",
      "Validation Accuracy after 181 epoch,(10m 21s) is 0.648958\n",
      "Loss after 182 epoch,(10m 24s) is 1.215920\n",
      "Train Accuracy after 182 epoch,(10m 24s) is 0.643250\n",
      "Validation Accuracy after 182 epoch,(10m 24s) is 0.598958\n",
      "Loss after 183 epoch,(10m 28s) is 1.233102\n",
      "Train Accuracy after 183 epoch,(10m 28s) is 0.633875\n",
      "Validation Accuracy after 183 epoch,(10m 28s) is 0.616667\n",
      "Loss after 184 epoch,(10m 31s) is 1.236918\n",
      "Train Accuracy after 184 epoch,(10m 31s) is 0.626875\n",
      "Validation Accuracy after 184 epoch,(10m 31s) is 0.620833\n",
      "Loss after 185 epoch,(10m 34s) is 1.258758\n",
      "Train Accuracy after 185 epoch,(10m 34s) is 0.624500\n",
      "Validation Accuracy after 185 epoch,(10m 34s) is 0.631250\n",
      "Loss after 186 epoch,(10m 38s) is 1.260173\n",
      "Train Accuracy after 186 epoch,(10m 38s) is 0.625125\n",
      "Validation Accuracy after 186 epoch,(10m 38s) is 0.637500\n",
      "Loss after 187 epoch,(10m 41s) is 1.247779\n",
      "Train Accuracy after 187 epoch,(10m 41s) is 0.627250\n",
      "Validation Accuracy after 187 epoch,(10m 41s) is 0.616667\n",
      "Loss after 188 epoch,(10m 44s) is 1.243237\n",
      "Train Accuracy after 188 epoch,(10m 44s) is 0.629500\n",
      "Validation Accuracy after 188 epoch,(10m 44s) is 0.617708\n",
      "Loss after 189 epoch,(10m 47s) is 1.219421\n",
      "Train Accuracy after 189 epoch,(10m 47s) is 0.637250\n",
      "Validation Accuracy after 189 epoch,(10m 47s) is 0.612500\n",
      "Loss after 190 epoch,(10m 50s) is 1.249814\n",
      "Train Accuracy after 190 epoch,(10m 50s) is 0.629250\n",
      "Validation Accuracy after 190 epoch,(10m 51s) is 0.609375\n",
      "Loss after 191 epoch,(10m 54s) is 1.230024\n",
      "Train Accuracy after 191 epoch,(10m 54s) is 0.633125\n",
      "Validation Accuracy after 191 epoch,(10m 54s) is 0.637500\n",
      "Loss after 192 epoch,(10m 57s) is 1.231308\n",
      "Train Accuracy after 192 epoch,(10m 57s) is 0.627375\n",
      "Validation Accuracy after 192 epoch,(10m 57s) is 0.630208\n",
      "Loss after 193 epoch,(11m 0s) is 1.242126\n",
      "Train Accuracy after 193 epoch,(11m 0s) is 0.624375\n",
      "Validation Accuracy after 193 epoch,(11m 1s) is 0.630208\n",
      "Loss after 194 epoch,(11m 4s) is 1.258976\n",
      "Train Accuracy after 194 epoch,(11m 4s) is 0.627000\n",
      "Validation Accuracy after 194 epoch,(11m 4s) is 0.620833\n",
      "Loss after 195 epoch,(11m 7s) is 1.249007\n",
      "Train Accuracy after 195 epoch,(11m 7s) is 0.631875\n",
      "Validation Accuracy after 195 epoch,(11m 7s) is 0.614583\n",
      "Loss after 196 epoch,(11m 10s) is 1.258373\n",
      "Train Accuracy after 196 epoch,(11m 10s) is 0.621875\n",
      "Validation Accuracy after 196 epoch,(11m 10s) is 0.644792\n",
      "Loss after 197 epoch,(11m 14s) is 1.248245\n",
      "Train Accuracy after 197 epoch,(11m 14s) is 0.620875\n",
      "Validation Accuracy after 197 epoch,(11m 14s) is 0.631250\n",
      "Loss after 198 epoch,(11m 17s) is 1.248617\n",
      "Train Accuracy after 198 epoch,(11m 17s) is 0.629375\n",
      "Validation Accuracy after 198 epoch,(11m 17s) is 0.607292\n",
      "Loss after 199 epoch,(11m 20s) is 1.244659\n",
      "Train Accuracy after 199 epoch,(11m 20s) is 0.622875\n",
      "Validation Accuracy after 199 epoch,(11m 20s) is 0.644792\n",
      "Loss after 200 epoch,(11m 23s) is 1.240192\n",
      "Train Accuracy after 200 epoch,(11m 23s) is 0.628000\n",
      "Validation Accuracy after 200 epoch,(11m 23s) is 0.646875\n"
     ]
    }
   ],
   "source": [
    "loss_full, acc_full, val_acc = train_early_stopping(batch_size, X_train_pad, y_train_tensor, X_val_pad, y_val_tensor, sent_attn, sent_optimizer, criterion, epoch, 10000, False)"
   ]
  },
  {
   "cell_type": "code",
   "execution_count": 75,
   "metadata": {},
   "outputs": [],
   "source": [
    "import matplotlib.pyplot as plt\n",
    "plt.plot(loss_full)\n",
    "plt.ylabel('Training Loss')\n",
    "plt.xlabel('Epoch')\n",
    "plt.savefig('loss.png')"
   ]
  },
  {
   "cell_type": "code",
   "execution_count": 76,
   "metadata": {},
   "outputs": [
    {
     "data": {
      "image/png": "[encoded data removed]",
      "text/plain": [
       "<Figure size 432x288 with 1 Axes>"
      ]
     },
     "metadata": {
      "needs_background": "light"
     },
     "output_type": "display_data"
    }
   ],
   "source": [
    "plt.plot(acc_full)\n",
    "plt.ylabel('Training Accuracy')\n",
    "plt.xlabel('Epoch')\n",
    "plt.savefig('train_acc.png')"
   ]
  },
  {
   "cell_type": "code",
   "execution_count": 77,
   "metadata": {},
   "outputs": [
    {
     "data": {
      "image/png": "[encoded data removed]",
      "text/plain": [
       "<Figure size 432x288 with 1 Axes>"
      ]
     },
     "metadata": {
      "needs_background": "light"
     },
     "output_type": "display_data"
    }
   ],
   "source": [
    "plt.plot(val_acc)\n",
    "plt.ylabel('Validation Accuracy')\n",
    "plt.xlabel('Epoch')\n",
    "plt.savefig('val_acc.png')"
   ]
  },
  {
   "cell_type": "code",
   "execution_count": 78,
   "metadata": {},
   "outputs": [],
   "source": [
    "def test_accuracy(batch_size, x_test, y_test, sent_attn_model):\n",
    "    acc = []\n",
    "    test_length = len(x_test)\n",
    "    for j in range(int(test_length/batch_size)):\n",
    "        x,y = gen_batch(x_test,y_test,batch_size)\n",
    "        state_word = sent_attn_model.init_hidden_word()\n",
    "        state_sent = sent_attn_model.init_hidden_sent()\n",
    "        \n",
    "        y_pred, state_sent = sent_attn_model(x, state_sent, state_word)\n",
    "        max_index = y_pred.max(dim = 1)[1]\n",
    "        correct = (max_index == torch.cuda.LongTensor(y)).sum()\n",
    "        acc.append(float(correct)/batch_size)\n",
    "    return np.mean(acc)"
   ]
  },
  {
   "cell_type": "code",
   "execution_count": 79,
   "metadata": {},
   "outputs": [
    {
     "data": {
      "text/plain": [
       "0.6541666666666667"
      ]
     },
     "execution_count": 79,
     "metadata": {},
     "output_type": "execute_result"
    }
   ],
   "source": [
    "test_accuracy(batch_size, X_test_pad, y_test_tensor, sent_attn)"
   ]
  },
  {
   "cell_type": "code",
   "execution_count": null,
   "metadata": {},
   "outputs": [],
   "source": []
  }
 ],
 "metadata": {
  "kernelspec": {
   "display_name": "Python 3",
   "language": "python",
   "name": "python3"
  },
  "language_info": {
   "codemirror_mode": {
    "name": "ipython",
    "version": 3
   },
   "file_extension": ".py",
   "mimetype": "text/x-python",
   "name": "python",
   "nbconvert_exporter": "python",
   "pygments_lexer": "ipython3",
   "version": "3.7.3"
  }
 },
 "nbformat": 4,
 "nbformat_minor": 2
}
